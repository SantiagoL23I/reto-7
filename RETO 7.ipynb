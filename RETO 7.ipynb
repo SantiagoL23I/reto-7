{
 "cells": [
  {
   "cell_type": "code",
   "execution_count": null,
   "metadata": {},
   "outputs": [],
   "source": [
    "x: float #variable como flotante\n",
    "x= 1 #iniciar variable x en 1\n",
    "while (x <=100): #mientras la variable sea menor o igual que 100 se mantendra el ciclo\n",
    "    print(\"el cuadrado de:\" +str(x)+ \" es \" +str(x**2)) #imprimir el número y su cuadrado\n",
    "    x+=1 #actulizar al siguiente entero"
   ]
  },
  {
   "cell_type": "code",
   "execution_count": null,
   "metadata": {},
   "outputs": [],
   "source": [
    "x:float #primera variable como flotante\n",
    "y:float #segunda variable como flotante\n",
    "x=1 #iniciar variable x en 1\n",
    "y=2 #iniciar variable y en 2\n",
    "while (y<=1000): #mientras la variable sea menor o igual que 1000 se mantendra el ciclo\n",
    "    if (y%2==0): #condición donde el residuo entre la variable y 2 es 0 (par)\n",
    "        print (\"Los numero pares son: \" +str(y)) #imprmir la variable y\n",
    "    y+=1 #actualizar al siguiente número\n",
    "while (x<=999): #mientras la variable sea menor o igual que 999 se mantendra el ciclo\n",
    "    if (x%2!=0): #condición donde el residuo entre la variable y 2 es diferente que 0 (impar)\n",
    "        print (\"Los numero impares son: \" +str(x)) #imprimir la variable x\n",
    "    x+=1 #actualizar al suguiente entero"
   ]
  },
  {
   "cell_type": "code",
   "execution_count": null,
   "metadata": {},
   "outputs": [],
   "source": [
    "x= int(input(\"Ingrese un número: \")) #pedir ingresar un número al usuario para la variable entera \n",
    "while (x>=2): #mientras la variable sea mayor o igual que 2 se mantendra el ciclo\n",
    "    if x%2!=0: #condición donde el residuo entre la variable y 2 es diferente que 0 (impar)\n",
    "        x-=1  #restar 1 a la variable para que se convierta en par \n",
    "    print(x) #imprimir la variable\n",
    "    x-=2   #actualizamos a los dos anteriores números para que siga en par y sea descendente      "
   ]
  },
  {
   "cell_type": "code",
   "execution_count": null,
   "metadata": {},
   "outputs": [],
   "source": [
    "A:float #variable A como flotante\n",
    "año:float #variable B como flotante\n",
    "A = 25000000 #iniciar variable A en 25000000\n",
    "B = 18900000 #iniciar variable B en 18900000\n",
    "año = 2022 #iniciar año en 2022\n",
    "while (A>B): #Mientras A sea mayor que B\n",
    "    A*= 1.02 #multiplicar A por 1.02 para tener el incremento del 2%\n",
    "    B*= 1.03 #multiplicar A por 1.03 para tener el incremento del 3%\n",
    "    año += 1 #Revaluamos el año \n",
    "print(\"La población de del país B superará a la del país A en el año: \" +str(año)) #imprimimos en que año la variable B supera a la variable A"
   ]
  },
  {
   "cell_type": "code",
   "execution_count": null,
   "metadata": {},
   "outputs": [],
   "source": [
    "n=int(input(\"ingrese un número: \")) #pedir ingresar un número al usuario para la variable entera \n",
    "x:int #variable x como entera\n",
    "x = n #iniciar la variable x en n\n",
    "while (n>1): #mientras n sea mayor que 1\n",
    "    n-=1 #restar 1 a n para multiplicarlo por el numero anterior digitado\n",
    "    x*=n #multiplicamos x por n \n",
    "print(\"El factorial es: \"+str(x)) #imprimimos el resultado"
   ]
  },
  {
   "cell_type": "code",
   "execution_count": null,
   "metadata": {},
   "outputs": [],
   "source": [
    "print(\"Piensa en un número entre 1 y 100.\") #imprimir texto para que el usuario lo vea\n",
    "print(\"Solo responde con 'mayor', 'menor' o 'sí'\") #imprme el texto de como debe responder el ususario\n",
    "x:int #variable x como entero\n",
    "y:int #variable y como entero\n",
    "r:str #variable r como string\n",
    "x = 1 #iniciar variable en uno\n",
    "y = 100 #iniciar variable en cien\n",
    "\n",
    "while True: #mientras sea verdadero\n",
    "        t=x+y//2 #Primer valor sea la suma de \"x\" y \"y\" dividido por 2\n",
    "        r = input(\"Es \" +str(t)+\" tu número? \") #pregunta si el primer valor es el numero\n",
    "        if r == \"sí\": #condicion donde r es igual a sí\n",
    "            print(\"Adiviné el número\") #imprime el texto de que se adivino el número\n",
    "            break #se rompe el ciclo\n",
    "        elif r == \"mayor\": #condicion donde r es igual a mayor\n",
    "            x = x + (y - x) // 3 #se ajusta el rango a un tercio entre el rango anterior y la mitad actual\n",
    "        elif r == \"menor\": #condicion donde r es igual a menor\n",
    "            y = x + (y - x) // 2 #se ajusta el rango a la mitad del anterior \n",
    "        else: #condicion en caso que no se cumpla \n",
    "            print(\"Solo responde con 'mayor', 'menor' o 'sí'\") #imprme el texto de como debe responder el ususario"
   ]
  },
  {
   "cell_type": "code",
   "execution_count": null,
   "metadata": {},
   "outputs": [],
   "source": [
    "n=float(input(\"ingrese un número entre el 2 y el 50: \")) #pedir ingresar un número al usuario para la variable n flotante\n",
    "x:float #variable x como flotante\n",
    "x=1 #iniciar la variable x en 1\n",
    "while (n>=2 and n<=50 and x<=n ): #mientras n sea mayor o igual que 2, menor igual que 50 y mayor igual que x\n",
    "    if n%x == 0: #condición donde el residuo entre la variable \"x\" y \"n\" es 0\n",
    "     print(x) #imprimimos la variable x\n",
    "    x+=1 #actualizamos al siguente entero"
   ]
  },
  {
   "cell_type": "code",
   "execution_count": null,
   "metadata": {},
   "outputs": [],
   "source": [
    "def primo(x : int, i = int)->int: #definimos \"primo\" como funcion con reultado entero \n",
    "        i = 2  # iniciar variable n en dos\n",
    "        if x == 2 : #condicion donde la variable x es igual a 2 \n",
    "            print(x) #imprimir la variable x\n",
    "        while i != x : #mientras i sea diferente a n\n",
    "            if x%i == 0: #condición donde el residuo entre la variable \"x\" y \"i\" es 0\n",
    "                break #rompe el ciclo\n",
    "            elif i == x-1: #condicion donde i es igual a x-1 para evaular otro valor en el ciclo hasta que se rompa\n",
    "                print(x) #imprimir la variable x\n",
    "            i += 1 #actualizar al siguiente número\n",
    "\n",
    "if __name__ == \"__main__\" : \n",
    "    x = int #variable x como entera\n",
    "    x = 2 #iniciar variable x en 2\n",
    "    f = 100 #iniciar variable f en 100\n",
    "    while x < f: #mientras n sea menor que f\n",
    "        a = primo(x) #llama la funcion primo\n",
    "        x += 1 #actualizar al siguiente entero"
   ]
  }
 ],
 "metadata": {
  "language_info": {
   "name": "python"
  },
  "orig_nbformat": 4
 },
 "nbformat": 4,
 "nbformat_minor": 2
}
